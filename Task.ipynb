{
 "cells": [
  {
   "cell_type": "code",
   "execution_count": 158,
   "id": "ea8f00ce",
   "metadata": {},
   "outputs": [],
   "source": [
    "import numpy as np\n",
    "import pandas as pd\n",
    "import matplotlib.pyplot as plt\n",
    "import seaborn\n",
    "from datetime import datetime\n",
    "from statsmodels import api as sm\n",
    "\n",
    "from sklearn.feature_selection import mutual_info_classif"
   ]
  },
  {
   "cell_type": "code",
   "execution_count": 2,
   "id": "a62f732b",
   "metadata": {},
   "outputs": [],
   "source": []
  },
  {
   "cell_type": "code",
   "execution_count": 16,
   "id": "1d410290",
   "metadata": {},
   "outputs": [],
   "source": [
    "# load the data into a single dataframe\n",
    "\n",
    "import glob\n",
    "\n",
    "path = r'./24h' # use your path\n",
    "all_files = glob.glob(path + \"/*.csv\")\n",
    "\n",
    "df = pd.concat((pd.read_csv(f) for f in all_files))\n"
   ]
  },
  {
   "cell_type": "code",
   "execution_count": 17,
   "id": "9faaafc7",
   "metadata": {},
   "outputs": [
    {
     "data": {
      "text/html": [
       "<div>\n",
       "<style scoped>\n",
       "    .dataframe tbody tr th:only-of-type {\n",
       "        vertical-align: middle;\n",
       "    }\n",
       "\n",
       "    .dataframe tbody tr th {\n",
       "        vertical-align: top;\n",
       "    }\n",
       "\n",
       "    .dataframe thead th {\n",
       "        text-align: right;\n",
       "    }\n",
       "</style>\n",
       "<table border=\"1\" class=\"dataframe\">\n",
       "  <thead>\n",
       "    <tr style=\"text-align: right;\">\n",
       "      <th></th>\n",
       "      <th>timestamp</th>\n",
       "      <th>exchange</th>\n",
       "      <th>market</th>\n",
       "      <th>base</th>\n",
       "      <th>quote</th>\n",
       "      <th>from</th>\n",
       "      <th>to</th>\n",
       "      <th>open</th>\n",
       "      <th>close</th>\n",
       "      <th>high</th>\n",
       "      <th>low</th>\n",
       "      <th>volume_base</th>\n",
       "      <th>volume_quote</th>\n",
       "      <th>date</th>\n",
       "      <th>period_ns</th>\n",
       "    </tr>\n",
       "  </thead>\n",
       "  <tbody>\n",
       "    <tr>\n",
       "      <th>0</th>\n",
       "      <td>1438992000000000000</td>\n",
       "      <td>cccagg</td>\n",
       "      <td>eth-usd</td>\n",
       "      <td>eth</td>\n",
       "      <td>usd</td>\n",
       "      <td>1438905600000000000</td>\n",
       "      <td>1438992000000000000</td>\n",
       "      <td>0.7812</td>\n",
       "      <td>2.7730</td>\n",
       "      <td>27.7900</td>\n",
       "      <td>0.7809</td>\n",
       "      <td>53584.56</td>\n",
       "      <td>148608.32</td>\n",
       "      <td>2015-08-08</td>\n",
       "      <td>86400000000000</td>\n",
       "    </tr>\n",
       "    <tr>\n",
       "      <th>1</th>\n",
       "      <td>1439078400000000000</td>\n",
       "      <td>cccagg</td>\n",
       "      <td>eth-usd</td>\n",
       "      <td>eth</td>\n",
       "      <td>usd</td>\n",
       "      <td>1438992000000000000</td>\n",
       "      <td>1439078400000000000</td>\n",
       "      <td>2.7730</td>\n",
       "      <td>0.8076</td>\n",
       "      <td>2.5810</td>\n",
       "      <td>0.5958</td>\n",
       "      <td>722558.00</td>\n",
       "      <td>583543.48</td>\n",
       "      <td>2015-08-09</td>\n",
       "      <td>86400000000000</td>\n",
       "    </tr>\n",
       "    <tr>\n",
       "      <th>2</th>\n",
       "      <td>1439164800000000000</td>\n",
       "      <td>cccagg</td>\n",
       "      <td>eth-usd</td>\n",
       "      <td>eth</td>\n",
       "      <td>usd</td>\n",
       "      <td>1439078400000000000</td>\n",
       "      <td>1439164800000000000</td>\n",
       "      <td>0.8076</td>\n",
       "      <td>0.7428</td>\n",
       "      <td>0.9581</td>\n",
       "      <td>0.6043</td>\n",
       "      <td>737119.57</td>\n",
       "      <td>547528.03</td>\n",
       "      <td>2015-08-10</td>\n",
       "      <td>86400000000000</td>\n",
       "    </tr>\n",
       "    <tr>\n",
       "      <th>3</th>\n",
       "      <td>1439251200000000000</td>\n",
       "      <td>cccagg</td>\n",
       "      <td>eth-usd</td>\n",
       "      <td>eth</td>\n",
       "      <td>usd</td>\n",
       "      <td>1439164800000000000</td>\n",
       "      <td>1439251200000000000</td>\n",
       "      <td>0.7428</td>\n",
       "      <td>0.6846</td>\n",
       "      <td>0.7628</td>\n",
       "      <td>0.5990</td>\n",
       "      <td>585917.04</td>\n",
       "      <td>401107.09</td>\n",
       "      <td>2015-08-11</td>\n",
       "      <td>86400000000000</td>\n",
       "    </tr>\n",
       "    <tr>\n",
       "      <th>4</th>\n",
       "      <td>1439337600000000000</td>\n",
       "      <td>cccagg</td>\n",
       "      <td>eth-usd</td>\n",
       "      <td>eth</td>\n",
       "      <td>usd</td>\n",
       "      <td>1439251200000000000</td>\n",
       "      <td>1439337600000000000</td>\n",
       "      <td>0.6846</td>\n",
       "      <td>1.0590</td>\n",
       "      <td>1.1650</td>\n",
       "      <td>0.6548</td>\n",
       "      <td>1479695.62</td>\n",
       "      <td>1567648.93</td>\n",
       "      <td>2015-08-12</td>\n",
       "      <td>86400000000000</td>\n",
       "    </tr>\n",
       "  </tbody>\n",
       "</table>\n",
       "</div>"
      ],
      "text/plain": [
       "             timestamp exchange   market base quote                 from  \\\n",
       "0  1438992000000000000   cccagg  eth-usd  eth   usd  1438905600000000000   \n",
       "1  1439078400000000000   cccagg  eth-usd  eth   usd  1438992000000000000   \n",
       "2  1439164800000000000   cccagg  eth-usd  eth   usd  1439078400000000000   \n",
       "3  1439251200000000000   cccagg  eth-usd  eth   usd  1439164800000000000   \n",
       "4  1439337600000000000   cccagg  eth-usd  eth   usd  1439251200000000000   \n",
       "\n",
       "                    to    open   close     high     low  volume_base  \\\n",
       "0  1438992000000000000  0.7812  2.7730  27.7900  0.7809     53584.56   \n",
       "1  1439078400000000000  2.7730  0.8076   2.5810  0.5958    722558.00   \n",
       "2  1439164800000000000  0.8076  0.7428   0.9581  0.6043    737119.57   \n",
       "3  1439251200000000000  0.7428  0.6846   0.7628  0.5990    585917.04   \n",
       "4  1439337600000000000  0.6846  1.0590   1.1650  0.6548   1479695.62   \n",
       "\n",
       "   volume_quote        date       period_ns  \n",
       "0     148608.32  2015-08-08  86400000000000  \n",
       "1     583543.48  2015-08-09  86400000000000  \n",
       "2     547528.03  2015-08-10  86400000000000  \n",
       "3     401107.09  2015-08-11  86400000000000  \n",
       "4    1567648.93  2015-08-12  86400000000000  "
      ]
     },
     "execution_count": 17,
     "metadata": {},
     "output_type": "execute_result"
    }
   ],
   "source": [
    "df.head()"
   ]
  },
  {
   "cell_type": "code",
   "execution_count": 18,
   "id": "1d59e17f",
   "metadata": {},
   "outputs": [],
   "source": [
    "twoh = pd.read_csv('./24h/candles_bch-usd_24h.csv')"
   ]
  },
  {
   "cell_type": "code",
   "execution_count": 26,
   "id": "0f5af4d5",
   "metadata": {},
   "outputs": [
    {
     "data": {
      "image/png": "[encoded data removed]",
      "text/plain": [
       "<Figure size 432x288 with 1 Axes>"
      ]
     },
     "metadata": {
      "needs_background": "light"
     },
     "output_type": "display_data"
    }
   ],
   "source": [
    "twoh.plot(x ='date', y='close')\n",
    "plt.show()"
   ]
  },
  {
   "cell_type": "code",
   "execution_count": 27,
   "id": "97b17b9e",
   "metadata": {
    "scrolled": true
   },
   "outputs": [
    {
     "data": {
      "image/png": "[encoded data removed]",
      "text/plain": [
       "<Figure size 432x288 with 1 Axes>"
      ]
     },
     "metadata": {
      "needs_background": "light"
     },
     "output_type": "display_data"
    }
   ],
   "source": [
    "twoh.plot(x ='date', y='volume_quote')\n",
    "plt.show()"
   ]
  },
  {
   "cell_type": "code",
   "execution_count": 52,
   "id": "ce63ef2b",
   "metadata": {},
   "outputs": [
    {
     "data": {
      "text/html": [
       "<div>\n",
       "<style scoped>\n",
       "    .dataframe tbody tr th:only-of-type {\n",
       "        vertical-align: middle;\n",
       "    }\n",
       "\n",
       "    .dataframe tbody tr th {\n",
       "        vertical-align: top;\n",
       "    }\n",
       "\n",
       "    .dataframe thead th {\n",
       "        text-align: right;\n",
       "    }\n",
       "</style>\n",
       "<table border=\"1\" class=\"dataframe\">\n",
       "  <thead>\n",
       "    <tr style=\"text-align: right;\">\n",
       "      <th></th>\n",
       "      <th>close</th>\n",
       "      <th>stock</th>\n",
       "      <th>date</th>\n",
       "    </tr>\n",
       "  </thead>\n",
       "  <tbody>\n",
       "    <tr>\n",
       "      <th>0</th>\n",
       "      <td>NaN</td>\n",
       "      <td>eth</td>\n",
       "      <td>2017-08-02</td>\n",
       "    </tr>\n",
       "    <tr>\n",
       "      <th>1</th>\n",
       "      <td>-0.708763</td>\n",
       "      <td>eth</td>\n",
       "      <td>2017-08-03</td>\n",
       "    </tr>\n",
       "    <tr>\n",
       "      <th>2</th>\n",
       "      <td>-0.080238</td>\n",
       "      <td>eth</td>\n",
       "      <td>2017-08-04</td>\n",
       "    </tr>\n",
       "    <tr>\n",
       "      <th>3</th>\n",
       "      <td>-0.078352</td>\n",
       "      <td>eth</td>\n",
       "      <td>2017-08-05</td>\n",
       "    </tr>\n",
       "    <tr>\n",
       "      <th>4</th>\n",
       "      <td>0.546889</td>\n",
       "      <td>eth</td>\n",
       "      <td>2017-08-06</td>\n",
       "    </tr>\n",
       "    <tr>\n",
       "      <th>...</th>\n",
       "      <td>...</td>\n",
       "      <td>...</td>\n",
       "      <td>...</td>\n",
       "    </tr>\n",
       "    <tr>\n",
       "      <th>3874</th>\n",
       "      <td>-0.096496</td>\n",
       "      <td>btc</td>\n",
       "      <td>NaN</td>\n",
       "    </tr>\n",
       "    <tr>\n",
       "      <th>3875</th>\n",
       "      <td>0.017168</td>\n",
       "      <td>btc</td>\n",
       "      <td>NaN</td>\n",
       "    </tr>\n",
       "    <tr>\n",
       "      <th>3876</th>\n",
       "      <td>-0.053386</td>\n",
       "      <td>btc</td>\n",
       "      <td>NaN</td>\n",
       "    </tr>\n",
       "    <tr>\n",
       "      <th>3877</th>\n",
       "      <td>-0.016107</td>\n",
       "      <td>btc</td>\n",
       "      <td>NaN</td>\n",
       "    </tr>\n",
       "    <tr>\n",
       "      <th>3878</th>\n",
       "      <td>-0.002873</td>\n",
       "      <td>btc</td>\n",
       "      <td>NaN</td>\n",
       "    </tr>\n",
       "  </tbody>\n",
       "</table>\n",
       "<p>18317 rows × 3 columns</p>\n",
       "</div>"
      ],
      "text/plain": [
       "         close stock        date\n",
       "0          NaN   eth  2017-08-02\n",
       "1    -0.708763   eth  2017-08-03\n",
       "2    -0.080238   eth  2017-08-04\n",
       "3    -0.078352   eth  2017-08-05\n",
       "4     0.546889   eth  2017-08-06\n",
       "...        ...   ...         ...\n",
       "3874 -0.096496   btc         NaN\n",
       "3875  0.017168   btc         NaN\n",
       "3876 -0.053386   btc         NaN\n",
       "3877 -0.016107   btc         NaN\n",
       "3878 -0.002873   btc         NaN\n",
       "\n",
       "[18317 rows x 3 columns]"
      ]
     },
     "execution_count": 52,
     "metadata": {},
     "output_type": "execute_result"
    }
   ],
   "source": [
    "path = r'./24h' # use your path\n",
    "all_files = glob.glob(path + \"/*.csv\")\n",
    "\n",
    "df_returns\n",
    "\n",
    "df_returns_1 = pd.concat((pd.read_csv(f)['close'].pct_change() for f in all_files))\n",
    "\n",
    "df_returns_2 = pd.concat((pd.read_csv(f)['base'] for f in all_files))\n",
    "\n",
    "date = twoh['date']\n",
    "\n",
    "final = pd.DataFrame()\n",
    "final['close'] = df_returns_1\n",
    "final['stock'] = df_returns_2\n",
    "final['date'] = date\n",
    "final"
   ]
  },
  {
   "cell_type": "code",
   "execution_count": 31,
   "id": "d608e712",
   "metadata": {
    "scrolled": true
   },
   "outputs": [
    {
     "data": {
      "text/plain": [
       "0            NaN\n",
       "1      -0.708763\n",
       "2      -0.080238\n",
       "3      -0.078352\n",
       "4       0.546889\n",
       "          ...   \n",
       "3874   -0.096496\n",
       "3875    0.017168\n",
       "3876   -0.053386\n",
       "3877   -0.016107\n",
       "3878   -0.002873\n",
       "Name: close, Length: 18317, dtype: float64"
      ]
     },
     "execution_count": 31,
     "metadata": {},
     "output_type": "execute_result"
    }
   ],
   "source": [
    "#calculate correlation\n",
    "df_close = df['close'].pct_change()\n",
    "df_close"
   ]
  },
  {
   "cell_type": "code",
   "execution_count": null,
   "id": "a3868d09",
   "metadata": {},
   "outputs": [],
   "source": [
    "########################"
   ]
  },
  {
   "cell_type": "code",
   "execution_count": 140,
   "id": "b82c29cd",
   "metadata": {},
   "outputs": [],
   "source": [
    "path = r'./24h' # use your path\n",
    "all_files = glob.glob(path + \"/*.csv\")\n",
    "\n",
    "stocks_close = []\n",
    "names = []\n",
    "\n",
    "\n",
    "for f in all_files:\n",
    "    stocks_close.append(pd.read_csv(f)['close'])\n",
    "    names.append(pd.read_csv(f)['base'].iloc[0])\n",
    "\n",
    "    \n",
    "\n"
   ]
  },
  {
   "cell_type": "code",
   "execution_count": 141,
   "id": "e6e1deb0",
   "metadata": {},
   "outputs": [],
   "source": [
    "final = pd.DataFrame()"
   ]
  },
  {
   "cell_type": "code",
   "execution_count": 142,
   "id": "053a0e63",
   "metadata": {},
   "outputs": [],
   "source": [
    "for i in range(len(stocks_pct)):\n",
    "    final[names[i]] = stocks_pct[i]\n"
   ]
  },
  {
   "cell_type": "code",
   "execution_count": 143,
   "id": "bd0e24bf",
   "metadata": {},
   "outputs": [],
   "source": [
    "final['date'] = twoh['date']"
   ]
  },
  {
   "cell_type": "code",
   "execution_count": 144,
   "id": "b5906aa7",
   "metadata": {
    "scrolled": true
   },
   "outputs": [
    {
     "data": {
      "text/html": [
       "<div>\n",
       "<style scoped>\n",
       "    .dataframe tbody tr th:only-of-type {\n",
       "        vertical-align: middle;\n",
       "    }\n",
       "\n",
       "    .dataframe tbody tr th {\n",
       "        vertical-align: top;\n",
       "    }\n",
       "\n",
       "    .dataframe thead th {\n",
       "        text-align: right;\n",
       "    }\n",
       "</style>\n",
       "<table border=\"1\" class=\"dataframe\">\n",
       "  <thead>\n",
       "    <tr style=\"text-align: right;\">\n",
       "      <th></th>\n",
       "      <th>eth</th>\n",
       "      <th>ada</th>\n",
       "      <th>link</th>\n",
       "      <th>ltc</th>\n",
       "      <th>xlm</th>\n",
       "      <th>bnb</th>\n",
       "      <th>bch</th>\n",
       "      <th>xmr</th>\n",
       "      <th>btc</th>\n",
       "      <th>date</th>\n",
       "    </tr>\n",
       "  </thead>\n",
       "  <tbody>\n",
       "    <tr>\n",
       "      <th>0</th>\n",
       "      <td>2.7730</td>\n",
       "      <td>0.02519</td>\n",
       "      <td>0.1727</td>\n",
       "      <td>2.590</td>\n",
       "      <td>0.002136</td>\n",
       "      <td>1.586</td>\n",
       "      <td>441.72</td>\n",
       "      <td>0.3149</td>\n",
       "      <td>0.04951</td>\n",
       "      <td>2017-08-02</td>\n",
       "    </tr>\n",
       "    <tr>\n",
       "      <th>1</th>\n",
       "      <td>0.8076</td>\n",
       "      <td>0.02588</td>\n",
       "      <td>0.1578</td>\n",
       "      <td>2.554</td>\n",
       "      <td>0.002085</td>\n",
       "      <td>1.430</td>\n",
       "      <td>670.61</td>\n",
       "      <td>0.3217</td>\n",
       "      <td>0.08584</td>\n",
       "      <td>2017-08-03</td>\n",
       "    </tr>\n",
       "    <tr>\n",
       "      <th>2</th>\n",
       "      <td>0.7428</td>\n",
       "      <td>0.02084</td>\n",
       "      <td>0.1335</td>\n",
       "      <td>2.666</td>\n",
       "      <td>0.002074</td>\n",
       "      <td>2.260</td>\n",
       "      <td>405.76</td>\n",
       "      <td>0.2954</td>\n",
       "      <td>0.08080</td>\n",
       "      <td>2017-08-04</td>\n",
       "    </tr>\n",
       "    <tr>\n",
       "      <th>3</th>\n",
       "      <td>0.6846</td>\n",
       "      <td>0.02189</td>\n",
       "      <td>0.1696</td>\n",
       "      <td>2.337</td>\n",
       "      <td>0.002132</td>\n",
       "      <td>1.934</td>\n",
       "      <td>217.27</td>\n",
       "      <td>0.3159</td>\n",
       "      <td>0.07474</td>\n",
       "      <td>2017-08-05</td>\n",
       "    </tr>\n",
       "    <tr>\n",
       "      <th>4</th>\n",
       "      <td>1.0590</td>\n",
       "      <td>0.02152</td>\n",
       "      <td>0.1784</td>\n",
       "      <td>2.502</td>\n",
       "      <td>0.002122</td>\n",
       "      <td>0.000</td>\n",
       "      <td>203.50</td>\n",
       "      <td>0.3019</td>\n",
       "      <td>0.07921</td>\n",
       "      <td>2017-08-06</td>\n",
       "    </tr>\n",
       "    <tr>\n",
       "      <th>...</th>\n",
       "      <td>...</td>\n",
       "      <td>...</td>\n",
       "      <td>...</td>\n",
       "      <td>...</td>\n",
       "      <td>...</td>\n",
       "      <td>...</td>\n",
       "      <td>...</td>\n",
       "      <td>...</td>\n",
       "      <td>...</td>\n",
       "      <td>...</td>\n",
       "    </tr>\n",
       "    <tr>\n",
       "      <th>2027</th>\n",
       "      <td>1578.1900</td>\n",
       "      <td>NaN</td>\n",
       "      <td>NaN</td>\n",
       "      <td>82.200</td>\n",
       "      <td>0.039550</td>\n",
       "      <td>NaN</td>\n",
       "      <td>NaN</td>\n",
       "      <td>91.5400</td>\n",
       "      <td>368.02000</td>\n",
       "      <td>NaN</td>\n",
       "    </tr>\n",
       "    <tr>\n",
       "      <th>2028</th>\n",
       "      <td>1625.1700</td>\n",
       "      <td>NaN</td>\n",
       "      <td>NaN</td>\n",
       "      <td>82.610</td>\n",
       "      <td>0.040570</td>\n",
       "      <td>NaN</td>\n",
       "      <td>NaN</td>\n",
       "      <td>89.9200</td>\n",
       "      <td>390.65000</td>\n",
       "      <td>NaN</td>\n",
       "    </tr>\n",
       "    <tr>\n",
       "      <th>2029</th>\n",
       "      <td>1481.8800</td>\n",
       "      <td>NaN</td>\n",
       "      <td>NaN</td>\n",
       "      <td>81.700</td>\n",
       "      <td>0.040620</td>\n",
       "      <td>NaN</td>\n",
       "      <td>NaN</td>\n",
       "      <td>91.2300</td>\n",
       "      <td>386.46000</td>\n",
       "      <td>NaN</td>\n",
       "    </tr>\n",
       "    <tr>\n",
       "      <th>2030</th>\n",
       "      <td>1446.1000</td>\n",
       "      <td>NaN</td>\n",
       "      <td>NaN</td>\n",
       "      <td>77.300</td>\n",
       "      <td>0.043050</td>\n",
       "      <td>NaN</td>\n",
       "      <td>NaN</td>\n",
       "      <td>93.5800</td>\n",
       "      <td>376.68000</td>\n",
       "      <td>NaN</td>\n",
       "    </tr>\n",
       "    <tr>\n",
       "      <th>2031</th>\n",
       "      <td>1460.2300</td>\n",
       "      <td>NaN</td>\n",
       "      <td>NaN</td>\n",
       "      <td>76.980</td>\n",
       "      <td>0.040500</td>\n",
       "      <td>NaN</td>\n",
       "      <td>NaN</td>\n",
       "      <td>93.4100</td>\n",
       "      <td>377.94000</td>\n",
       "      <td>NaN</td>\n",
       "    </tr>\n",
       "  </tbody>\n",
       "</table>\n",
       "<p>2032 rows × 10 columns</p>\n",
       "</div>"
      ],
      "text/plain": [
       "            eth      ada    link     ltc       xlm    bnb     bch      xmr  \\\n",
       "0        2.7730  0.02519  0.1727   2.590  0.002136  1.586  441.72   0.3149   \n",
       "1        0.8076  0.02588  0.1578   2.554  0.002085  1.430  670.61   0.3217   \n",
       "2        0.7428  0.02084  0.1335   2.666  0.002074  2.260  405.76   0.2954   \n",
       "3        0.6846  0.02189  0.1696   2.337  0.002132  1.934  217.27   0.3159   \n",
       "4        1.0590  0.02152  0.1784   2.502  0.002122  0.000  203.50   0.3019   \n",
       "...         ...      ...     ...     ...       ...    ...     ...      ...   \n",
       "2027  1578.1900      NaN     NaN  82.200  0.039550    NaN     NaN  91.5400   \n",
       "2028  1625.1700      NaN     NaN  82.610  0.040570    NaN     NaN  89.9200   \n",
       "2029  1481.8800      NaN     NaN  81.700  0.040620    NaN     NaN  91.2300   \n",
       "2030  1446.1000      NaN     NaN  77.300  0.043050    NaN     NaN  93.5800   \n",
       "2031  1460.2300      NaN     NaN  76.980  0.040500    NaN     NaN  93.4100   \n",
       "\n",
       "            btc        date  \n",
       "0       0.04951  2017-08-02  \n",
       "1       0.08584  2017-08-03  \n",
       "2       0.08080  2017-08-04  \n",
       "3       0.07474  2017-08-05  \n",
       "4       0.07921  2017-08-06  \n",
       "...         ...         ...  \n",
       "2027  368.02000         NaN  \n",
       "2028  390.65000         NaN  \n",
       "2029  386.46000         NaN  \n",
       "2030  376.68000         NaN  \n",
       "2031  377.94000         NaN  \n",
       "\n",
       "[2032 rows x 10 columns]"
      ]
     },
     "execution_count": 144,
     "metadata": {},
     "output_type": "execute_result"
    }
   ],
   "source": [
    "final"
   ]
  },
  {
   "cell_type": "code",
   "execution_count": 145,
   "id": "a56b12b3",
   "metadata": {},
   "outputs": [
    {
     "data": {
      "text/html": [
       "<div>\n",
       "<style scoped>\n",
       "    .dataframe tbody tr th:only-of-type {\n",
       "        vertical-align: middle;\n",
       "    }\n",
       "\n",
       "    .dataframe tbody tr th {\n",
       "        vertical-align: top;\n",
       "    }\n",
       "\n",
       "    .dataframe thead th {\n",
       "        text-align: right;\n",
       "    }\n",
       "</style>\n",
       "<table border=\"1\" class=\"dataframe\">\n",
       "  <thead>\n",
       "    <tr style=\"text-align: right;\">\n",
       "      <th></th>\n",
       "      <th>eth</th>\n",
       "      <th>ada</th>\n",
       "      <th>link</th>\n",
       "      <th>ltc</th>\n",
       "      <th>xlm</th>\n",
       "      <th>bnb</th>\n",
       "      <th>bch</th>\n",
       "      <th>xmr</th>\n",
       "      <th>btc</th>\n",
       "    </tr>\n",
       "  </thead>\n",
       "  <tbody>\n",
       "    <tr>\n",
       "      <th>eth</th>\n",
       "      <td>1.000000</td>\n",
       "      <td>-0.237104</td>\n",
       "      <td>0.220501</td>\n",
       "      <td>0.036188</td>\n",
       "      <td>-0.067719</td>\n",
       "      <td>0.072377</td>\n",
       "      <td>-0.355515</td>\n",
       "      <td>0.252533</td>\n",
       "      <td>0.128027</td>\n",
       "    </tr>\n",
       "    <tr>\n",
       "      <th>ada</th>\n",
       "      <td>-0.237104</td>\n",
       "      <td>1.000000</td>\n",
       "      <td>0.411357</td>\n",
       "      <td>0.506997</td>\n",
       "      <td>0.578601</td>\n",
       "      <td>0.055172</td>\n",
       "      <td>0.304112</td>\n",
       "      <td>0.075108</td>\n",
       "      <td>0.591456</td>\n",
       "    </tr>\n",
       "    <tr>\n",
       "      <th>link</th>\n",
       "      <td>0.220501</td>\n",
       "      <td>0.411357</td>\n",
       "      <td>1.000000</td>\n",
       "      <td>-0.193284</td>\n",
       "      <td>0.773036</td>\n",
       "      <td>0.637374</td>\n",
       "      <td>-0.276565</td>\n",
       "      <td>0.747252</td>\n",
       "      <td>0.850026</td>\n",
       "    </tr>\n",
       "    <tr>\n",
       "      <th>ltc</th>\n",
       "      <td>0.036188</td>\n",
       "      <td>0.506997</td>\n",
       "      <td>-0.193284</td>\n",
       "      <td>1.000000</td>\n",
       "      <td>0.240470</td>\n",
       "      <td>-0.085589</td>\n",
       "      <td>0.525812</td>\n",
       "      <td>0.046007</td>\n",
       "      <td>0.352684</td>\n",
       "    </tr>\n",
       "    <tr>\n",
       "      <th>xlm</th>\n",
       "      <td>-0.067719</td>\n",
       "      <td>0.578601</td>\n",
       "      <td>0.773036</td>\n",
       "      <td>0.240470</td>\n",
       "      <td>1.000000</td>\n",
       "      <td>0.430945</td>\n",
       "      <td>-0.101540</td>\n",
       "      <td>0.283323</td>\n",
       "      <td>0.872307</td>\n",
       "    </tr>\n",
       "    <tr>\n",
       "      <th>bnb</th>\n",
       "      <td>0.072377</td>\n",
       "      <td>0.055172</td>\n",
       "      <td>0.637374</td>\n",
       "      <td>-0.085589</td>\n",
       "      <td>0.430945</td>\n",
       "      <td>1.000000</td>\n",
       "      <td>-0.093193</td>\n",
       "      <td>0.231091</td>\n",
       "      <td>0.644263</td>\n",
       "    </tr>\n",
       "    <tr>\n",
       "      <th>bch</th>\n",
       "      <td>-0.355515</td>\n",
       "      <td>0.304112</td>\n",
       "      <td>-0.276565</td>\n",
       "      <td>0.525812</td>\n",
       "      <td>-0.101540</td>\n",
       "      <td>-0.093193</td>\n",
       "      <td>1.000000</td>\n",
       "      <td>-0.305736</td>\n",
       "      <td>-0.113951</td>\n",
       "    </tr>\n",
       "    <tr>\n",
       "      <th>xmr</th>\n",
       "      <td>0.252533</td>\n",
       "      <td>0.075108</td>\n",
       "      <td>0.747252</td>\n",
       "      <td>0.046007</td>\n",
       "      <td>0.283323</td>\n",
       "      <td>0.231091</td>\n",
       "      <td>-0.305736</td>\n",
       "      <td>1.000000</td>\n",
       "      <td>0.308763</td>\n",
       "    </tr>\n",
       "    <tr>\n",
       "      <th>btc</th>\n",
       "      <td>0.128027</td>\n",
       "      <td>0.591456</td>\n",
       "      <td>0.850026</td>\n",
       "      <td>0.352684</td>\n",
       "      <td>0.872307</td>\n",
       "      <td>0.644263</td>\n",
       "      <td>-0.113951</td>\n",
       "      <td>0.308763</td>\n",
       "      <td>1.000000</td>\n",
       "    </tr>\n",
       "  </tbody>\n",
       "</table>\n",
       "</div>"
      ],
      "text/plain": [
       "           eth       ada      link       ltc       xlm       bnb       bch  \\\n",
       "eth   1.000000 -0.237104  0.220501  0.036188 -0.067719  0.072377 -0.355515   \n",
       "ada  -0.237104  1.000000  0.411357  0.506997  0.578601  0.055172  0.304112   \n",
       "link  0.220501  0.411357  1.000000 -0.193284  0.773036  0.637374 -0.276565   \n",
       "ltc   0.036188  0.506997 -0.193284  1.000000  0.240470 -0.085589  0.525812   \n",
       "xlm  -0.067719  0.578601  0.773036  0.240470  1.000000  0.430945 -0.101540   \n",
       "bnb   0.072377  0.055172  0.637374 -0.085589  0.430945  1.000000 -0.093193   \n",
       "bch  -0.355515  0.304112 -0.276565  0.525812 -0.101540 -0.093193  1.000000   \n",
       "xmr   0.252533  0.075108  0.747252  0.046007  0.283323  0.231091 -0.305736   \n",
       "btc   0.128027  0.591456  0.850026  0.352684  0.872307  0.644263 -0.113951   \n",
       "\n",
       "           xmr       btc  \n",
       "eth   0.252533  0.128027  \n",
       "ada   0.075108  0.591456  \n",
       "link  0.747252  0.850026  \n",
       "ltc   0.046007  0.352684  \n",
       "xlm   0.283323  0.872307  \n",
       "bnb   0.231091  0.644263  \n",
       "bch  -0.305736 -0.113951  \n",
       "xmr   1.000000  0.308763  \n",
       "btc   0.308763  1.000000  "
      ]
     },
     "execution_count": 145,
     "metadata": {},
     "output_type": "execute_result"
    }
   ],
   "source": [
    "correlation = final.corr()\n",
    "correlation"
   ]
  },
  {
   "cell_type": "code",
   "execution_count": 146,
   "id": "ed94d47b",
   "metadata": {},
   "outputs": [
    {
     "data": {
      "image/png": "[encoded data removed]",
      "text/plain": [
       "<Figure size 432x288 with 2 Axes>"
      ]
     },
     "metadata": {
      "needs_background": "light"
     },
     "output_type": "display_data"
    }
   ],
   "source": [
    "#plot correlation matrix\n",
    "sm.graphics.plot_corr(correlation,xnames=list(correlation.columns))\n",
    "plt.show()"
   ]
  },
  {
   "cell_type": "code",
   "execution_count": 147,
   "id": "489bca2a",
   "metadata": {},
   "outputs": [
    {
     "data": {
      "text/plain": [
       "<Figure size 432x288 with 0 Axes>"
      ]
     },
     "execution_count": 147,
     "metadata": {},
     "output_type": "execute_result"
    },
    {
     "data": {
      "image/png": "[encoded data removed]",
      "text/plain": [
       "<Figure size 936x576 with 2 Axes>"
      ]
     },
     "metadata": {
      "needs_background": "light"
     },
     "output_type": "display_data"
    },
    {
     "data": {
      "text/plain": [
       "<Figure size 432x288 with 0 Axes>"
      ]
     },
     "metadata": {},
     "output_type": "display_data"
    }
   ],
   "source": [
    "plt.figure(figsize=(13, 8))\n",
    "seaborn.heatmap(correlation, annot=True)\n",
    "plt.figure()"
   ]
  },
  {
   "cell_type": "code",
   "execution_count": 149,
   "id": "fca2763a",
   "metadata": {},
   "outputs": [],
   "source": [
    "###################################################################################################################"
   ]
  },
  {
   "cell_type": "code",
   "execution_count": 152,
   "id": "f6d16649",
   "metadata": {},
   "outputs": [],
   "source": [
    "##################################### FIND MUTUAL INFORMATION #####################################################"
   ]
  },
  {
   "cell_type": "code",
   "execution_count": 154,
   "id": "ebd274ec",
   "metadata": {},
   "outputs": [],
   "source": [
    "price = twoh['close']\n",
    "volume = twoh['volume_base']"
   ]
  },
  {
   "cell_type": "code",
   "execution_count": 167,
   "id": "6e413724",
   "metadata": {},
   "outputs": [
    {
     "name": "stdout",
     "output_type": "stream",
     "text": [
      "7.161701016841852\n"
     ]
    },
    {
     "name": "stderr",
     "output_type": "stream",
     "text": [
      "/Users/angeloskafounis/opt/anaconda3/lib/python3.8/site-packages/sklearn/metrics/cluster/_supervised.py:58: UserWarning: Clustering metrics expects discrete values but received continuous values for label, and continuous values for target\n",
      "  warnings.warn(msg, UserWarning)\n"
     ]
    }
   ],
   "source": [
    "from sklearn.metrics import mutual_info_score\n",
    "\n",
    "print(mutual_info_score(price, volume))"
   ]
  },
  {
   "cell_type": "code",
   "execution_count": 168,
   "id": "7b348cfb",
   "metadata": {},
   "outputs": [
    {
     "name": "stdout",
     "output_type": "stream",
     "text": [
      "[0.69314718]\n",
      "0.6931471805599456\n"
     ]
    }
   ],
   "source": [
    "a = np.array([1, 1, 1, 0, 0, 1, 0, 0, 0, 1])\n",
    "b = np.array([1, 1, 1, 0, 0, 1, 0, 0, 0, 1])\n",
    "\n",
    "\n",
    "print(mutual_info_classif(a.reshape(-1,1), b, discrete_features = True)) # mutual information of 0.69, expressed in nats\n",
    "print(mutual_info_score(a,b))"
   ]
  },
  {
   "cell_type": "code",
   "execution_count": 173,
   "id": "2fa6bca0",
   "metadata": {
    "scrolled": true
   },
   "outputs": [
    {
     "name": "stderr",
     "output_type": "stream",
     "text": [
      "/Users/angeloskafounis/opt/anaconda3/lib/python3.8/site-packages/sklearn/metrics/cluster/_supervised.py:58: UserWarning: Clustering metrics expects discrete values but received continuous values for label, and continuous values for target\n",
      "  warnings.warn(msg, UserWarning)\n"
     ]
    },
    {
     "data": {
      "image/png": "[encoded data removed]",
      "text/plain": [
       "<Figure size 432x288 with 1 Axes>"
      ]
     },
     "metadata": {
      "needs_background": "light"
     },
     "output_type": "display_data"
    }
   ],
   "source": [
    "\n",
    "plt.plot(mutual_info_score(price, volume))\n",
    "plt.show()"
   ]
  },
  {
   "cell_type": "code",
   "execution_count": null,
   "id": "2ce9d889",
   "metadata": {},
   "outputs": [],
   "source": []
  },
  {
   "cell_type": "code",
   "execution_count": null,
   "id": "b9ab340a",
   "metadata": {},
   "outputs": [],
   "source": []
  },
  {
   "cell_type": "code",
   "execution_count": null,
   "id": "74b7b8c4",
   "metadata": {},
   "outputs": [],
   "source": []
  },
  {
   "cell_type": "code",
   "execution_count": null,
   "id": "0d100ab8",
   "metadata": {},
   "outputs": [],
   "source": []
  }
 ],
 "metadata": {
  "kernelspec": {
   "display_name": "Python 3",
   "language": "python",
   "name": "python3"
  },
  "language_info": {
   "codemirror_mode": {
    "name": "ipython",
    "version": 3
   },
   "file_extension": ".py",
   "mimetype": "text/x-python",
   "name": "python",
   "nbconvert_exporter": "python",
   "pygments_lexer": "ipython3",
   "version": "3.8.8"
  }
 },
 "nbformat": 4,
 "nbformat_minor": 5
}
